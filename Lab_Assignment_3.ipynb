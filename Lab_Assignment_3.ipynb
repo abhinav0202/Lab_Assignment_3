{
 "cells": [
  {
   "cell_type": "markdown",
   "metadata": {},
   "source": [
    "# question 1"
   ]
  },
  {
   "cell_type": "code",
   "execution_count": 2,
   "metadata": {},
   "outputs": [
    {
     "name": "stdout",
     "output_type": "stream",
     "text": [
      "{'F': 1, 'a': 1, 'c': 1, 'e': 1, 'b': 1, 'o': 2, 'k': 1}\n"
     ]
    }
   ],
   "source": [
    "def char_frequency(str1):\n",
    "    dict = {}\n",
    "    for n in str1:\n",
    "        keys = dict.keys()\n",
    "        if n in keys:\n",
    "            dict[n] += 1\n",
    "        else:\n",
    "            dict[n] = 1\n",
    "    return dict\n",
    "print(char_frequency('Facebook'))\n"
   ]
  },
  {
   "cell_type": "markdown",
   "metadata": {},
   "source": [
    "# question 2"
   ]
  },
  {
   "cell_type": "code",
   "execution_count": 3,
   "metadata": {},
   "outputs": [
    {
     "name": "stdout",
     "output_type": "stream",
     "text": [
      "This function wraps the input paragraph such that\n",
      "each line in the paragraph is at most width\n",
      "characters long. The wrap method returns a list of\n",
      "output lines. The returned list is empty if the\n",
      "wrapped output has no content.\n"
     ]
    }
   ],
   "source": [
    "import textwrap\n",
    "\n",
    "value = \"\"\"This function wraps the input paragraph such that each line\n",
    "in the paragraph is at most width characters long. The wrap method\n",
    "returns a list of output lines. The returned list\n",
    "is empty if the wrapped\n",
    "output has no content.\"\"\"\n",
    "\n",
    "\n",
    "wrapper = textwrap.TextWrapper(width=50)\n",
    "\n",
    "word_list = wrapper.wrap(text=value)\n",
    "\n",
    "for element in word_list:\n",
    "\tprint(element)\n",
    "\n"
   ]
  },
  {
   "cell_type": "markdown",
   "metadata": {},
   "source": [
    "# question 3"
   ]
  },
  {
   "cell_type": "code",
   "execution_count": 19,
   "metadata": {},
   "outputs": [
    {
     "name": "stdout",
     "output_type": "stream",
     "text": [
      "[2, 4, 6, 8]\n"
     ]
    }
   ],
   "source": [
    "def addition(n):\n",
    "\treturn n+n\n",
    "\n",
    "numbers = (1, 2, 3, 4)\n",
    "result = map(addition, numbers)\n",
    "print(list(result))\n"
   ]
  },
  {
   "cell_type": "markdown",
   "metadata": {},
   "source": [
    "# question 4"
   ]
  },
  {
   "cell_type": "code",
   "execution_count": 5,
   "metadata": {},
   "outputs": [
    {
     "name": "stdout",
     "output_type": "stream",
     "text": [
      "[1, 4, 9, 16, 25]\n"
     ]
    }
   ],
   "source": [
    "def square(number):\n",
    "    return number ** 2\n",
    "\n",
    "\n",
    "numbers = [1, 2, 3, 4, 5]\n",
    "\n",
    "squared = map(square, numbers)\n",
    "print(list(squared))\n",
    "\n"
   ]
  },
  {
   "cell_type": "markdown",
   "metadata": {},
   "source": [
    "# question 5"
   ]
  },
  {
   "cell_type": "code",
   "execution_count": 6,
   "metadata": {},
   "outputs": [
    {
     "name": "stdout",
     "output_type": "stream",
     "text": [
      "[(1, 1, 2), (1, 2, 3), (1, 3, 4), (2, 2, 4), (1, 4, 5), (2, 3, 5), (1, 5, 6), (2, 4, 6), (3, 3, 6), (1, 6, 7), (2, 5, 7), (3, 4, 7), (1, 7, 8), (2, 6, 8), (3, 5, 8), (4, 4, 8), (1, 8, 9), (2, 7, 9), (3, 6, 9), (4, 5, 9)]\n"
     ]
    }
   ],
   "source": [
    "def triplets(n): \n",
    "    return [ (a,c-a,c) for c in range(2,n) for a in range(1,c//2+1) ]\n",
    "    \n",
    "print(triplets(10))\n"
   ]
  },
  {
   "cell_type": "markdown",
   "metadata": {},
   "source": [
    "# question 6"
   ]
  },
  {
   "cell_type": "code",
   "execution_count": 29,
   "metadata": {},
   "outputs": [
    {
     "name": "stdout",
     "output_type": "stream",
     "text": [
      "['Abhinav', 'batch ', 'enroll']\n",
      "['singh', 'f8', '9918103206']\n"
     ]
    }
   ],
   "source": [
    "import csv\n",
    "\n",
    "def parse_csv():\n",
    "    with open('Book1.csv') as csv_file:\n",
    "        csv_reader = csv.reader(csv_file,delimiter=',')\n",
    "        for word in csv_reader:   \n",
    "            print(word)\n",
    "parse_csv()\n"
   ]
  },
  {
   "cell_type": "markdown",
   "metadata": {},
   "source": [
    "# question 7"
   ]
  },
  {
   "cell_type": "code",
   "execution_count": 42,
   "metadata": {},
   "outputs": [
    {
     "name": "stdout",
     "output_type": "stream",
     "text": [
      "Abhinav,batch,,enroll\n",
      "singh,f8,9918103206\n"
     ]
    }
   ],
   "source": [
    "import csv\n",
    "\n",
    "def parse_csv(): \n",
    "    with open('Book1.csv', newline='') as f:\n",
    "        reader = csv.reader(f, delimiter=' ', quotechar='|')\n",
    "        for row in reader:\n",
    "            print(','.join(row))\n",
    "            \n",
    "parse_csv()"
   ]
  },
  {
   "cell_type": "markdown",
   "metadata": {},
   "source": [
    "# question 8"
   ]
  },
  {
   "cell_type": "code",
   "execution_count": 38,
   "metadata": {},
   "outputs": [
    {
     "name": "stdout",
     "output_type": "stream",
     "text": [
      "hefllo\n",
      "hllo\n"
     ]
    },
    {
     "data": {
      "text/plain": [
       "False"
      ]
     },
     "execution_count": 38,
     "metadata": {},
     "output_type": "execute_result"
    }
   ],
   "source": [
    "def mutate(d):\n",
    "    ret=[d]\n",
    "    i=0 \n",
    "    l=len(d)\n",
    "    alp=map(chr,range(97,123))\n",
    "    \n",
    "    while i<l:\n",
    "        cop=d\n",
    "        ret.append(cop[:i]+cop[i+1:])\n",
    "        if i<l-2:\n",
    "            ret.append(cop[:i]+cop[i+1]+cop[i]+cop[i+2:])\n",
    "        elif i<l-1:\n",
    "            ret.append(cop[:i]+cop[i+1]+cop[i]) \n",
    "        for x in alp:\n",
    "            ret.append(cop[:i]+x+cop[i+1:])\n",
    "        for x in alp:\n",
    "            ret.append(d+x)\n",
    "            ret.append(x+d)\n",
    "            ret.append(cop[:i]+x+cop[i:])\n",
    "        i=i+1\n",
    "    return ret\n",
    "print ('hefllo') in mutate('hello')\n",
    "print ('hllo') in mutate('hello')\n"
   ]
  },
  {
   "cell_type": "markdown",
   "metadata": {},
   "source": [
    "# question 9"
   ]
  },
  {
   "cell_type": "code",
   "execution_count": 39,
   "metadata": {},
   "outputs": [
    {
     "name": "stdout",
     "output_type": "stream",
     "text": [
      "Enter first string: abhinav\n",
      "Enter second string: abhibav\n",
      "\n",
      "Strings are not equal.\n",
      "abhinav != abhibav\n"
     ]
    }
   ],
   "source": [
    "string1 = input(\"Enter first string: \")\n",
    "string2 = input(\"Enter second string: \")\n",
    "if string1 == string2:\n",
    "    print(\"\\nBoth strings are equal to each other.\")\n",
    "    print(string1,\"==\",string2);\n",
    "else:\n",
    "    print(\"\\nStrings are not equal.\")\n",
    "    print(string1,\"!=\",string2);\n",
    "\n"
   ]
  },
  {
   "cell_type": "markdown",
   "metadata": {},
   "source": [
    "# question 10"
   ]
  },
  {
   "cell_type": "code",
   "execution_count": 40,
   "metadata": {},
   "outputs": [
    {
     "name": "stdout",
     "output_type": "stream",
     "text": [
      "Orginal list of strings:\n",
      "['bcda', 'abce', 'cbda', 'cbea', 'adcb']\n",
      "\n",
      "Anagrams of 'abcd' in the above string: \n",
      "['bcda', 'cbda', 'adcb']\n"
     ]
    }
   ],
   "source": [
    "from collections import Counter  \n",
    "texts = [\"bcda\", \"abce\", \"cbda\", \"cbea\", \"adcb\"]\n",
    "str = \"abcd\"\n",
    "print(\"Orginal list of strings:\")\n",
    "print(texts) \n",
    "result = list(filter(lambda x: (Counter(str) == Counter(x)), texts)) \n",
    "print(\"\\nAnagrams of 'abcd' in the above string: \")\n",
    "print(result)\n"
   ]
  },
  {
   "cell_type": "code",
   "execution_count": null,
   "metadata": {},
   "outputs": [],
   "source": []
  }
 ],
 "metadata": {
  "kernelspec": {
   "display_name": "Python 3",
   "language": "python",
   "name": "python3"
  },
  "language_info": {
   "codemirror_mode": {
    "name": "ipython",
    "version": 3
   },
   "file_extension": ".py",
   "mimetype": "text/x-python",
   "name": "python",
   "nbconvert_exporter": "python",
   "pygments_lexer": "ipython3",
   "version": "3.7.6"
  }
 },
 "nbformat": 4,
 "nbformat_minor": 4
}
